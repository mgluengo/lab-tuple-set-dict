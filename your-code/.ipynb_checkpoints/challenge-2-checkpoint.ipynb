{
 "cells": [
  {
   "cell_type": "markdown",
   "metadata": {},
   "source": [
    "## Challenge 2: Sets\n",
    "\n",
    "There are a lot to learn about Python Sets and the information presented in the lesson is limited due to its length. To learn Python Sets in depth you are strongly encouraged to review the W3Schools tutorial on [Python Sets Examples and Methods](https://www.w3schools.com/python/python_sets.asp) before you work on this lab. Some difficult questions in this lab have their solutions in the W3Schools tutorial.\n",
    "\n",
    "#### First, import the Python `random` libary"
   ]
  },
  {
   "cell_type": "code",
   "execution_count": 7,
   "metadata": {},
   "outputs": [],
   "source": [
    "import random"
   ]
  },
  {
   "cell_type": "markdown",
   "metadata": {},
   "source": [
    "#### 1 - In the cell below, create a list named `sample_list_1` with 80 random values. \n",
    "\n",
    "Requirements:\n",
    "\n",
    "* Each value is an integer falling between 0 and 100.\n",
    "* Each value in the list is unique.\n",
    "\n",
    "Print `sample_list_1` to review its values\n",
    "\n",
    "*Hint: use `random.sample` ([reference](https://docs.python.org/3/library/random.html#random.sample)).*"
   ]
  },
  {
   "cell_type": "code",
   "execution_count": 11,
   "metadata": {},
   "outputs": [
    {
     "name": "stdout",
     "output_type": "stream",
     "text": [
      "[75, 7, 76, 79, 78, 60, 57, 26, 53, 73, 4, 83, 63, 5, 55, 90, 67, 39, 38, 80, 86, 87, 8, 64, 52, 89, 97, 35, 72, 22, 11, 10, 12, 100, 84, 98, 28, 71, 58, 36, 1, 17, 16, 32, 20, 81, 19, 47, 69, 25, 99, 18, 0, 44, 9, 51, 74, 56, 62, 23, 14, 31, 59, 42, 6, 93, 13, 40, 27, 45, 50, 91, 94, 68, 48, 49, 77, 96, 82, 3]\n"
     ]
    }
   ],
   "source": [
    "# Your code here\n",
    "\n",
    "sample_list_1 = random.sample(range(0,101), 80)\n",
    "print(sample_list_1)"
   ]
  },
  {
   "cell_type": "markdown",
   "metadata": {},
   "source": [
    "#### 2 - Convert `sample_list_1` to a set called `set1`. Print the length of the set. Is its length still 80?"
   ]
  },
  {
   "cell_type": "code",
   "execution_count": 12,
   "metadata": {},
   "outputs": [
    {
     "data": {
      "text/plain": [
       "80"
      ]
     },
     "execution_count": 12,
     "metadata": {},
     "output_type": "execute_result"
    }
   ],
   "source": [
    "# Your code here\n",
    "set1 = set(sample_list_1)\n",
    "len(set1)\n",
    "\n",
    "#Yes, the lenght is still 80 (all values in the previous list were unique)"
   ]
  },
  {
   "cell_type": "markdown",
   "metadata": {},
   "source": [
    "#### 3 - Create another list named `sample_list_2` with 80 random values.\n",
    "\n",
    "Requirements:\n",
    "\n",
    "* Each value is an integer falling between 0 and 100.\n",
    "* The values in the list don't have to be unique.\n",
    "\n",
    "*Hint: Use a FOR loop.*"
   ]
  },
  {
   "cell_type": "code",
   "execution_count": 8,
   "metadata": {},
   "outputs": [
    {
     "name": "stdout",
     "output_type": "stream",
     "text": [
      "[21, 31, 81, 29, 63, 48, 52, 60, 32, 45, 85, 2, 94, 98, 75, 57, 51, 36, 99, 23, 16, 12, 52, 85, 21, 46, 8, 101, 17, 41, 12, 41, 60, 91, 77, 8, 65, 100, 31, 13, 32, 15, 48, 46, 10, 45, 61, 98, 66, 4, 29, 36, 75, 71, 98, 88, 101, 76, 16, 70, 14, 4, 70, 52, 68, 66, 9, 23, 76, 57, 11, 93, 84, 89, 36, 87, 56, 7, 11, 91]\n"
     ]
    }
   ],
   "source": [
    "# Your code here\n",
    "\n",
    "# Option 1 - Without the FOR loop:\n",
    "\n",
    "sample_list_2 = [random.randint(1, 101) for _ in range(80)]\n",
    "print(sample_list_2)\n",
    "\n",
    "# Option 2 - With the FOR loop:\n",
    "\n",
    "#sample_list_2 = []\n",
    "#for n in range(81):\n",
    "    #sample_list_2.append(random.randint(1,101))\n",
    "#print(sample_list_2)  "
   ]
  },
  {
   "cell_type": "markdown",
   "metadata": {},
   "source": [
    "#### 4 - Convert `sample_list_2` to a set called `set2`. Print the length of the set. Is its length still 80?"
   ]
  },
  {
   "cell_type": "code",
   "execution_count": 9,
   "metadata": {},
   "outputs": [
    {
     "name": "stdout",
     "output_type": "stream",
     "text": [
      "{2, 4, 7, 8, 9, 10, 11, 12, 13, 14, 15, 16, 17, 21, 23, 29, 31, 32, 36, 41, 45, 46, 48, 51, 52, 56, 57, 60, 61, 63, 65, 66, 68, 70, 71, 75, 76, 77, 81, 84, 85, 87, 88, 89, 91, 93, 94, 98, 99, 100, 101}\n"
     ]
    },
    {
     "data": {
      "text/plain": [
       "51"
      ]
     },
     "execution_count": 9,
     "metadata": {},
     "output_type": "execute_result"
    }
   ],
   "source": [
    "# Your code here\n",
    "\n",
    "set2 = set(sample_list_2)\n",
    "print(set2)\n",
    "\n",
    "len(set2)\n",
    "\n",
    "# Answer: No, the lenght is not 80 anymore. Sets allow only unique values, so it removes the duplicates."
   ]
  },
  {
   "cell_type": "markdown",
   "metadata": {},
   "source": [
    "#### 5 - Identify the elements present in `set1` but not in `set2`. Assign the elements to a new set named `set3`."
   ]
  },
  {
   "cell_type": "code",
   "execution_count": 13,
   "metadata": {},
   "outputs": [
    {
     "name": "stdout",
     "output_type": "stream",
     "text": [
      "{0, 1, 3, 5, 6, 18, 19, 20, 22, 25, 26, 27, 28, 35, 38, 39, 40, 42, 44, 47, 49, 50, 53, 55, 58, 59, 62, 64, 67, 69, 72, 73, 74, 78, 79, 80, 82, 83, 86, 90, 96, 97}\n"
     ]
    },
    {
     "data": {
      "text/plain": [
       "42"
      ]
     },
     "execution_count": 13,
     "metadata": {},
     "output_type": "execute_result"
    }
   ],
   "source": [
    "# Your code here\n",
    "set3 = set1.difference(set2)\n",
    "print(set3)\n",
    "len(set3)"
   ]
  },
  {
   "cell_type": "markdown",
   "metadata": {},
   "source": [
    "#### 6 - Identify the elements present in `set2` but not in `set1`. Assign the elements to a new set named `set4`."
   ]
  },
  {
   "cell_type": "code",
   "execution_count": 14,
   "metadata": {},
   "outputs": [
    {
     "name": "stdout",
     "output_type": "stream",
     "text": [
      "{65, 2, 66, 101, 70, 41, 46, 15, 61, 21, 85, 88, 29}\n"
     ]
    },
    {
     "data": {
      "text/plain": [
       "13"
      ]
     },
     "execution_count": 14,
     "metadata": {},
     "output_type": "execute_result"
    }
   ],
   "source": [
    "# Your code here\n",
    "set4 = set2.difference(set1)\n",
    "print(set4)\n",
    "len(set4)"
   ]
  },
  {
   "cell_type": "markdown",
   "metadata": {},
   "source": [
    "#### 7 - Now Identify the elements shared between `set1` and `set2`. Assign the elements to a new set named `set5`."
   ]
  },
  {
   "cell_type": "code",
   "execution_count": 16,
   "metadata": {},
   "outputs": [
    {
     "name": "stdout",
     "output_type": "stream",
     "text": [
      "{4, 7, 8, 9, 10, 11, 12, 13, 14, 16, 17, 23, 31, 32, 36, 45, 48, 51, 52, 56, 57, 60, 63, 68, 71, 75, 76, 77, 81, 84, 87, 89, 91, 93, 94, 98, 99, 100}\n"
     ]
    },
    {
     "data": {
      "text/plain": [
       "38"
      ]
     },
     "execution_count": 16,
     "metadata": {},
     "output_type": "execute_result"
    }
   ],
   "source": [
    "# Your code here\n",
    "set5 = set1.intersection(set2)\n",
    "print(set5)\n",
    "len(set5)"
   ]
  },
  {
   "cell_type": "markdown",
   "metadata": {},
   "source": [
    "#### 8 - Create an empty set called `set6`."
   ]
  },
  {
   "cell_type": "code",
   "execution_count": 17,
   "metadata": {},
   "outputs": [],
   "source": [
    "# Your code here\n",
    "set6 = set()"
   ]
  },
  {
   "cell_type": "markdown",
   "metadata": {},
   "source": [
    "#### 9 - Add `set3` and `set5` to `set6` using the Python Set `update` method."
   ]
  },
  {
   "cell_type": "code",
   "execution_count": 18,
   "metadata": {},
   "outputs": [
    {
     "name": "stdout",
     "output_type": "stream",
     "text": [
      "{0, 1, 3, 4, 5, 6, 7, 8, 9, 10, 11, 12, 13, 14, 16, 17, 18, 19, 20, 22, 23, 25, 26, 27, 28, 31, 32, 35, 36, 38, 39, 40, 42, 44, 45, 47, 48, 49, 50, 51, 52, 53, 55, 56, 57, 58, 59, 60, 62, 63, 64, 67, 68, 69, 71, 72, 73, 74, 75, 76, 77, 78, 79, 80, 81, 82, 83, 84, 86, 87, 89, 90, 91, 93, 94, 96, 97, 98, 99, 100}\n"
     ]
    },
    {
     "data": {
      "text/plain": [
       "80"
      ]
     },
     "execution_count": 18,
     "metadata": {},
     "output_type": "execute_result"
    }
   ],
   "source": [
    "# Your code here\n",
    "set6.update(set3,set5)\n",
    "print(set6)\n",
    "len(set6)"
   ]
  },
  {
   "cell_type": "markdown",
   "metadata": {},
   "source": [
    "#### 10 - Check if `set1` and `set6` are equal."
   ]
  },
  {
   "cell_type": "code",
   "execution_count": 19,
   "metadata": {},
   "outputs": [
    {
     "data": {
      "text/plain": [
       "True"
      ]
     },
     "execution_count": 19,
     "metadata": {},
     "output_type": "execute_result"
    }
   ],
   "source": [
    "# Your code here\n",
    "set1 == set6"
   ]
  },
  {
   "cell_type": "markdown",
   "metadata": {},
   "source": [
    "#### 11 - Check if `set1` contains `set2` using the Python Set `issubset` method. Then check if `set1` contains `set3`.*"
   ]
  },
  {
   "cell_type": "code",
   "execution_count": 20,
   "metadata": {},
   "outputs": [
    {
     "name": "stdout",
     "output_type": "stream",
     "text": [
      "False\n",
      "False\n"
     ]
    }
   ],
   "source": [
    "# Your code here\n",
    "print(set2.issubset(set1))\n",
    "print(set1.issubset(set2))"
   ]
  },
  {
   "cell_type": "markdown",
   "metadata": {},
   "source": [
    "#### 12 -Using the Python Set `union` method, aggregate `set3`, `set4`, and `set5`. Then aggregate `set1` and `set2`. \n",
    "\n",
    "#### Check if the aggregated values are equal."
   ]
  },
  {
   "cell_type": "code",
   "execution_count": 21,
   "metadata": {},
   "outputs": [
    {
     "data": {
      "text/plain": [
       "True"
      ]
     },
     "execution_count": 21,
     "metadata": {},
     "output_type": "execute_result"
    }
   ],
   "source": [
    "# Your code here\n",
    "set3.union(set4,set5) == set1.union(set2)"
   ]
  },
  {
   "cell_type": "markdown",
   "metadata": {},
   "source": [
    "#### 13 -Using the `pop` method, remove the first element from `set1`."
   ]
  },
  {
   "cell_type": "code",
   "execution_count": 22,
   "metadata": {},
   "outputs": [],
   "source": [
    "# Your code here\n",
    "\n",
    "#If I try to remove the first element with pop, it returns an error --> .pop() for sets does not accept arguments.\n",
    "#set1.pop(0)\n",
    "#print(set1)\n"
   ]
  },
  {
   "cell_type": "markdown",
   "metadata": {},
   "source": [
    "#### 14 -Remove every element in the following list from `set1` if they are present in the set. Print the remaining elements.\n",
    "\n",
    "```\n",
    "list_to_remove = [1, 9, 11, 19, 21, 29, 31, 39, 41, 49, 51, 59, 61, 69, 71, 79, 81, 89, 91, 99]\n",
    "```"
   ]
  },
  {
   "cell_type": "code",
   "execution_count": 27,
   "metadata": {},
   "outputs": [
    {
     "name": "stdout",
     "output_type": "stream",
     "text": [
      "{0, 1, 3, 4, 5, 6, 7, 8, 9, 10, 11, 12, 13, 14, 16, 17, 18, 19, 20, 22, 23, 25, 26, 27, 28, 31, 32, 35, 36, 38, 39, 40, 42, 44, 45, 47, 48, 49, 50, 51, 52, 53, 55, 56, 57, 58, 59, 60, 62, 63, 64, 67, 68, 69, 71, 72, 73, 74, 75, 76, 77, 78, 79, 80, 81, 82, 83, 84, 86, 87, 89, 90, 91, 93, 94, 96, 97, 98, 99, 100}\n",
      "{0, 3, 4, 5, 6, 7, 8, 10, 12, 13, 14, 16, 17, 18, 20, 22, 23, 25, 26, 27, 28, 32, 35, 36, 38, 40, 42, 44, 45, 47, 48, 50, 52, 53, 55, 56, 57, 58, 60, 62, 63, 64, 67, 68, 72, 73, 74, 75, 76, 77, 78, 80, 82, 83, 84, 86, 87, 90, 93, 94, 96, 97, 98, 100}\n"
     ]
    }
   ],
   "source": [
    "# Your code here\n",
    "\n",
    "print(set1) #check initial set1\n",
    "\n",
    "list_to_remove = [1, 9, 11, 19, 21, 29, 31, 39, 41, 49, 51, 59, 61, 69, 71, 79, 81, 89, 91, 99]\n",
    "\n",
    "set_to_remove = set(list_to_remove)\n",
    "set1 = set1.difference(set_to_remove)\n",
    "print(set1)  #check set1 after applying method\n"
   ]
  },
  {
   "cell_type": "markdown",
   "metadata": {},
   "source": [
    "#### 15 -The objective of this lab is to provide you a overview of manipulating sets in Python and how they can be integrated within a real usecase\n",
    "#### For the exercises below it's strongly advised to quickly check this link: https://docs.python.org/2/library/sets.html#sets.Set\n",
    "#### Imagine you need to create the grocery list for your family! Below you will see a list of items each family member wants. There will be repetitions because this family has the habbit of each time they notice something is missing to write it down. The problem is that they don't really talk to each other and therefore some items in the list are repeated. With the collection of questions below you will see how they solve repetion and create a grocery list with unique elements.\n",
    "\n"
   ]
  },
  {
   "cell_type": "code",
   "execution_count": 28,
   "metadata": {},
   "outputs": [],
   "source": [
    "father_list = ['garlic', 'watermelon', 'toilet paper', 'yogurt', 'onions', 'gums', 'flour', 'cucumber', 'watermelon', 'yogurt', 'garlic']\n",
    "\n",
    "mother_list = []\n",
    "\n",
    "Jo_list = ['blueberries', 'sugar', 'watermelon', 'gums', 'tomatoes', 'yogurt', 'juice', 'milk', 'onions', 'garlic', 'cucumber', 'sugar', 'blueberries', 'gums', 'yogurt']\n",
    "\n",
    "Carlos_list = ['tomatoes', 'water', 'onions', 'blueberries', 'garlic', 'flour', 'cherries', 'tomatoes', 'onions', 'water', 'tomatoes', 'toilet paper']\n",
    "\n",
    "Mattia_list = []\n",
    "\n",
    "\n"
   ]
  },
  {
   "cell_type": "markdown",
   "metadata": {},
   "source": [
    "#### 15.1- As you can see there are items repeated in each list. Creat a sequence of iterable elements with dintinct items that each family member wants. You can do it in two different ways. Assign each one (set) to a variable with the name of the family member (ex: father_set)."
   ]
  },
  {
   "cell_type": "code",
   "execution_count": 91,
   "metadata": {},
   "outputs": [
    {
     "name": "stdout",
     "output_type": "stream",
     "text": [
      "{'father_set': {'flour', 'yogurt', 'cucumber', 'garlic', 'onions', 'gums', 'toilet paper', 'watermelon'}, 'mother_set': {'cherries', 'shampoo', 'cucumber', 'chocolate', 'juice', 'onions', 'oranges', 'gums', 'mushrooms'}, 'Jo_set': {'milk', 'sugar', 'tomatoes', 'blueberries', 'yogurt', 'cucumber', 'garlic', 'juice', 'onions', 'gums', 'watermelon'}, 'Carlos_set': {'flour', 'cherries', 'blueberries', 'tomatoes', 'garlic', 'water', 'onions', 'toilet paper'}, 'Mattia_set': {'flour', 'cherries', 'milk', 'sugar', 'yogurt', 'cucumber', 'water', 'juice', 'gums', 'toilet paper', 'watermelon'}}\n"
     ]
    }
   ],
   "source": [
    "shopping_dic = {'father_set':set(father_list),\n",
    "    'mother_set':set(mother_list),\n",
    "    'Jo_set':set(Jo_list),\n",
    "    'Carlos_set':set(Carlos_list),\n",
    "    'Mattia_set':set(Mattia_list)}\n",
    "print(shopping_dic)"
   ]
  },
  {
   "cell_type": "markdown",
   "metadata": {},
   "source": [
    "#### 15.2- Q: Mattia wants the same items that his brother Carlos and his sister Jo but doesn't want anything they both want.\n",
    "\n",
    "##### Hint: check out the documentation for `x.symmetric_difference(y)`."
   ]
  },
  {
   "cell_type": "code",
   "execution_count": 93,
   "metadata": {},
   "outputs": [
    {
     "name": "stdout",
     "output_type": "stream",
     "text": [
      "{'father_set': {'flour', 'yogurt', 'cucumber', 'garlic', 'onions', 'gums', 'toilet paper', 'watermelon'}, 'mother_set': {'cherries', 'shampoo', 'cucumber', 'chocolate', 'juice', 'onions', 'oranges', 'gums', 'mushrooms'}, 'Jo_set': {'milk', 'sugar', 'tomatoes', 'blueberries', 'yogurt', 'cucumber', 'garlic', 'juice', 'onions', 'gums', 'watermelon'}, 'Carlos_set': {'flour', 'cherries', 'blueberries', 'tomatoes', 'garlic', 'water', 'onions', 'toilet paper'}, 'Mattia_set': {'flour', 'cherries', 'milk', 'sugar', 'yogurt', 'cucumber', 'water', 'juice', 'gums', 'toilet paper', 'watermelon'}}\n"
     ]
    }
   ],
   "source": [
    "# Your code here\n",
    "mattia_list = shopping_dic['Carlos_set'].symmetric_difference(shopping_dic['Jo_set'])\n",
    "shopping_dic['Mattia_set']= mattia_list\n",
    "\n",
    "#check:\n",
    "print(shopping_dic)"
   ]
  },
  {
   "cell_type": "markdown",
   "metadata": {},
   "source": [
    "#### 15.3- The line of code below  will  generate a list of random elements from a collection of items, with replacement. Run it and from it create a sequence of unique elements and assign it to the variable mother.\n"
   ]
  },
  {
   "cell_type": "code",
   "execution_count": 96,
   "metadata": {},
   "outputs": [
    {
     "name": "stdout",
     "output_type": "stream",
     "text": [
      "['blueberries', 'milk', 'juice', 'deodorant', 'mushrooms', 'deodorant', 'sugar', 'shampoo', 'oranges', 'oranges']\n"
     ]
    }
   ],
   "source": [
    "import random\n",
    "items = ['milk', 'water', 'chocolate', 'blueberries', 'shampoo', 'flour', 'bread', 'sugar', 'watermelon', 'vinegar', 'tomatoes', 'yogurt', 'juice', 'gums', 'onions', 'garlic', 'cucumber', 'mushrooms', 'toilet paper', 'oranges', 'deodorant', 'cherries']\n",
    "\n",
    "mother_list = random.choices(items,k = 10) # https://docs.python.org/3/library/random.html\n",
    "\n",
    "print(mother_list)"
   ]
  },
  {
   "cell_type": "code",
   "execution_count": 98,
   "metadata": {},
   "outputs": [
    {
     "name": "stdout",
     "output_type": "stream",
     "text": [
      "{'deodorant', 'milk', 'shampoo', 'sugar', 'blueberries', 'juice', 'oranges', 'mushrooms'}\n"
     ]
    }
   ],
   "source": [
    "# Your code here\n",
    "shopping_dic['mother_set'] = set(mother_list)\n",
    "\n",
    "#check\n",
    "print(shopping_dic['mother_set'])"
   ]
  },
  {
   "cell_type": "markdown",
   "metadata": {},
   "source": [
    "#### 15.4- Before leaving the house to the grocery store the father found a lot of toilet paper, so the mother decided to remove it from the items needed to be bought. Use the `.discard()` method to remove from each set created before the 'toilet paper'. \n",
    "\n",
    "#### Hint: Try to first create a list contaning the variables of each set created before, then loop through them and remove the unecessary item. \n",
    "\n",
    "##### Note: The`.discard()` method will remove and update the set without the need of reassignment.\n",
    "\n"
   ]
  },
  {
   "cell_type": "code",
   "execution_count": 99,
   "metadata": {},
   "outputs": [
    {
     "name": "stdout",
     "output_type": "stream",
     "text": [
      "{'father_set': {'flour', 'yogurt', 'cucumber', 'garlic', 'onions', 'gums', 'watermelon'}, 'mother_set': {'deodorant', 'milk', 'shampoo', 'sugar', 'blueberries', 'juice', 'oranges', 'mushrooms'}, 'Jo_set': {'milk', 'sugar', 'tomatoes', 'blueberries', 'yogurt', 'cucumber', 'garlic', 'juice', 'onions', 'gums', 'watermelon'}, 'Carlos_set': {'flour', 'cherries', 'blueberries', 'tomatoes', 'garlic', 'water', 'onions'}, 'Mattia_set': {'flour', 'cherries', 'milk', 'sugar', 'yogurt', 'cucumber', 'water', 'juice', 'gums', 'watermelon'}}\n"
     ]
    }
   ],
   "source": [
    "# Your code here\n",
    "\n",
    "dict_keys = list(shopping_dic.keys())\n",
    "\n",
    "for name in dict_keys:\n",
    "    shopping_dic[name].discard('toilet paper')\n",
    "\n",
    "print(shopping_dic)"
   ]
  },
  {
   "cell_type": "markdown",
   "metadata": {},
   "source": [
    "#### 15.5- Create a set with all the groceries needed to be bought for the house (no repetitions)."
   ]
  },
  {
   "cell_type": "code",
   "execution_count": 126,
   "metadata": {
    "scrolled": true
   },
   "outputs": [
    {
     "name": "stdout",
     "output_type": "stream",
     "text": [
      "{'deodorant', 'flour', 'cherries', 'milk', 'shampoo', 'sugar', 'yogurt', 'blueberries', 'cucumber', 'tomatoes', 'garlic', 'water', 'juice', 'onions', 'oranges', 'gums', 'mushrooms', 'watermelon'}\n"
     ]
    }
   ],
   "source": [
    "# Your code here\n",
    "\n",
    "#First, create a combined list combining all values from the dictionary\n",
    "combined_list = []\n",
    "for name in dict_keys:\n",
    "    name_list = list(shopping_dic[name])\n",
    "    combined_list += name_list\n",
    "\n",
    "#Then transform into set\n",
    "combined_set = set(combined_list)\n",
    "print(combined_set)"
   ]
  },
  {
   "cell_type": "markdown",
   "metadata": {},
   "source": [
    "#### 15.6- The Father said that he could only buy five items this time. So he decided to arbitraly pick wich ones to buy this time.\n",
    "\n",
    "##### Hint: use the `.pop()` method."
   ]
  },
  {
   "cell_type": "code",
   "execution_count": 125,
   "metadata": {},
   "outputs": [
    {
     "name": "stdout",
     "output_type": "stream",
     "text": [
      "['deodorant', 'flour', 'cherries', 'milk', 'shampoo']\n"
     ]
    }
   ],
   "source": [
    "final_list = list()\n",
    "\n",
    "for i in range(5):\n",
    "    final_list.append(combined_set.pop())\n",
    "\n",
    "print(final_list)"
   ]
  }
 ],
 "metadata": {
  "kernelspec": {
   "display_name": "Python 3 (ipykernel)",
   "language": "python",
   "name": "python3"
  },
  "language_info": {
   "codemirror_mode": {
    "name": "ipython",
    "version": 3
   },
   "file_extension": ".py",
   "mimetype": "text/x-python",
   "name": "python",
   "nbconvert_exporter": "python",
   "pygments_lexer": "ipython3",
   "version": "3.9.7"
  }
 },
 "nbformat": 4,
 "nbformat_minor": 2
}
